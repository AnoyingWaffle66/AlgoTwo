{
 "cells": [
  {
   "cell_type": "code",
   "execution_count": 1,
   "metadata": {},
   "outputs": [],
   "source": [
    "# primitives\n",
    "int1 = 4 # Don't do things like x = 1\n",
    "int2 = 5\n"
   ]
  },
  {
   "cell_type": "code",
   "execution_count": 4,
   "metadata": {},
   "outputs": [
    {
     "name": "stdout",
     "output_type": "stream",
     "text": [
      "9\n"
     ]
    },
    {
     "data": {
      "text/plain": [
       "46"
      ]
     },
     "execution_count": 4,
     "metadata": {},
     "output_type": "execute_result"
    }
   ],
   "source": [
    "print(int1 + int2) # Ways of debugging values\n",
    "int1 + 42 # Last operation is displayed"
   ]
  },
  {
   "cell_type": "code",
   "execution_count": 12,
   "metadata": {},
   "outputs": [
    {
     "data": {
      "text/plain": [
       "'c:\\\\1Shool\\\\Current\\\\ScriptingAndAutomation\\\\Week1'"
      ]
     },
     "execution_count": 12,
     "metadata": {},
     "output_type": "execute_result"
    }
   ],
   "source": [
    "import os as os\n",
    "wk_dir = os.getcwd() # Get current working directory\n",
    "wk_dir"
   ]
  },
  {
   "cell_type": "code",
   "execution_count": 17,
   "metadata": {},
   "outputs": [
    {
     "data": {
      "text/plain": [
       "'c:\\\\1Shool\\\\Current\\\\ScriptingAndAutomation'"
      ]
     },
     "execution_count": 17,
     "metadata": {},
     "output_type": "execute_result"
    }
   ],
   "source": [
    "# Use single or double quotes as long as they are consistent\n",
    "path = 'c:/1Shool/Current/ScriptingAndAutomation'\n",
    "\n",
    "someVariable = \"I don't care\"\n",
    "os.chdir(path)\n",
    "\n",
    "new_wk_dir = os.getcwd()\n",
    "new_wk_dir"
   ]
  },
  {
   "cell_type": "code",
   "execution_count": 21,
   "metadata": {},
   "outputs": [],
   "source": [
    "os.chdir('c:\\\\1Shool\\\\Current\\\\ScriptingAndAutomation\\\\Week1')"
   ]
  },
  {
   "cell_type": "code",
   "execution_count": 23,
   "metadata": {},
   "outputs": [
    {
     "data": {
      "text/plain": [
       "str"
      ]
     },
     "execution_count": 23,
     "metadata": {},
     "output_type": "execute_result"
    }
   ],
   "source": [
    "type(path)"
   ]
  },
  {
   "cell_type": "code",
   "execution_count": 27,
   "metadata": {},
   "outputs": [
    {
     "name": "stdout",
     "output_type": "stream",
     "text": [
      "<class 'int'>\n",
      "<class 'float'>\n"
     ]
    }
   ],
   "source": [
    "# Display var types for my sanity\n",
    "print(type(int1))\n",
    "print(type(0.02))"
   ]
  },
  {
   "cell_type": "code",
   "execution_count": 28,
   "metadata": {},
   "outputs": [
    {
     "data": {
      "text/plain": [
       "3.3"
      ]
     },
     "execution_count": 28,
     "metadata": {},
     "output_type": "execute_result"
    }
   ],
   "source": [
    "flt =-3.3\n",
    "abs(flt) # Absolute value"
   ]
  },
  {
   "cell_type": "code",
   "execution_count": 29,
   "metadata": {},
   "outputs": [
    {
     "data": {
      "text/plain": [
       "1"
      ]
     },
     "execution_count": 29,
     "metadata": {},
     "output_type": "execute_result"
    }
   ],
   "source": [
    "int1 + int(flt) # Vars can be cast"
   ]
  },
  {
   "cell_type": "code",
   "execution_count": 30,
   "metadata": {},
   "outputs": [
    {
     "data": {
      "text/plain": [
       "1024"
      ]
     },
     "execution_count": 30,
     "metadata": {},
     "output_type": "execute_result"
    }
   ],
   "source": [
    "pow(int1, int2) # Raise int1 to the power of int2"
   ]
  },
  {
   "cell_type": "code",
   "execution_count": 33,
   "metadata": {},
   "outputs": [
    {
     "data": {
      "text/plain": [
       "'0b101'"
      ]
     },
     "execution_count": 33,
     "metadata": {},
     "output_type": "execute_result"
    }
   ],
   "source": [
    "bin(int2)"
   ]
  },
  {
   "cell_type": "code",
   "execution_count": 36,
   "metadata": {},
   "outputs": [
    {
     "name": "stdout",
     "output_type": "stream",
     "text": [
      "44\n"
     ]
    }
   ],
   "source": [
    "def foo():\n",
    "    return 41 + 1\n",
    "\n",
    "# Call function\n",
    "foo()\n",
    "\n",
    "print(2 + foo())"
   ]
  },
  {
   "cell_type": "code",
   "execution_count": 37,
   "metadata": {},
   "outputs": [
    {
     "data": {
      "text/plain": [
       "range(0, 3)"
      ]
     },
     "execution_count": 37,
     "metadata": {},
     "output_type": "execute_result"
    }
   ],
   "source": [
    "range(0, 3)"
   ]
  },
  {
   "cell_type": "code",
   "execution_count": 38,
   "metadata": {},
   "outputs": [
    {
     "name": "stdout",
     "output_type": "stream",
     "text": [
      "0\n",
      "1\n",
      "2\n"
     ]
    }
   ],
   "source": [
    "# Zero index excluding last number\n",
    "for iCount in range(3):\n",
    "    print(iCount)"
   ]
  },
  {
   "cell_type": "code",
   "execution_count": 40,
   "metadata": {},
   "outputs": [
    {
     "name": "stdout",
     "output_type": "stream",
     "text": [
      "1\n",
      "2\n",
      "3\n",
      "4\n"
     ]
    }
   ],
   "source": [
    "# Left param inclusive, right param exclusive\n",
    "for iCount in range(1, 5):\n",
    "    print(iCount)"
   ]
  },
  {
   "cell_type": "code",
   "execution_count": 43,
   "metadata": {},
   "outputs": [
    {
     "name": "stdout",
     "output_type": "stream",
     "text": [
      "1\n",
      "2\n",
      "3\n",
      "42\n"
     ]
    }
   ],
   "source": [
    "# Tuples will contain objects, and objects can contain objects\n",
    "# Fixed length\n",
    "# Immutable\n",
    "# Zero indexed\n",
    "\n",
    "tup = (1, 2, 3, 42)\n",
    "for myValue in tup:\n",
    "    print(myValue)\n",
    "\n",
    "newTup = (tup, 69, \"haha very funny\")\n",
    "for thing in newTup:\n",
    "    print(thing)"
   ]
  },
  {
   "cell_type": "code",
   "execution_count": 50,
   "metadata": {},
   "outputs": [
    {
     "data": {
      "text/plain": [
       "tuple"
      ]
     },
     "execution_count": 50,
     "metadata": {},
     "output_type": "execute_result"
    }
   ],
   "source": [
    "type(newTup[0]) # Access by ordinal position\n"
   ]
  },
  {
   "cell_type": "code",
   "execution_count": 58,
   "metadata": {},
   "outputs": [
    {
     "name": "stdout",
     "output_type": "stream",
     "text": [
      "1\n",
      "2\n",
      "3\n",
      "42\n",
      "(1, 2, 3, 42)\n",
      "Something\n",
      "[1234]\n",
      "<class 'list'>\n"
     ]
    }
   ],
   "source": [
    "# Lists []\n",
    "# mutable\n",
    "# variable length\n",
    "# zero indexed\n",
    "# contain other objects\n",
    "\n",
    "list1 = [1, 2, 3, 42, tup, 'Something', [1234]]\n",
    "\n",
    "for thingy in list1:\n",
    "    print(thingy)\n",
    "\n",
    "print(type(list1[6]))\n"
   ]
  },
  {
   "cell_type": "code",
   "execution_count": 64,
   "metadata": {},
   "outputs": [
    {
     "name": "stdout",
     "output_type": "stream",
     "text": [
      "<class 'dict_keys'>\n"
     ]
    }
   ],
   "source": [
    "# Dictionary (key pair)\n",
    "# Key:Value pair\n",
    "# Values are objects\n",
    "# Modify, delete, insert, etc.\n",
    "# Keys are immutable\n",
    "\n",
    "d1 = {\n",
    "    'name': 'Bob',\n",
    "    'age': 42,\n",
    "    'eyes': ('Blue', 'Green')\n",
    "    }\n",
    "\n",
    "print(type(d1.keys()))"
   ]
  },
  {
   "cell_type": "code",
   "execution_count": 66,
   "metadata": {},
   "outputs": [
    {
     "name": "stdout",
     "output_type": "stream",
     "text": [
      "dict_values(['Bob', 42, ('Blue', 'Green')])\n"
     ]
    }
   ],
   "source": [
    "# Display all values\n",
    "print(d1.values())"
   ]
  },
  {
   "cell_type": "code",
   "execution_count": 75,
   "metadata": {},
   "outputs": [
    {
     "data": {
      "text/plain": [
       "'thing'"
      ]
     },
     "execution_count": 75,
     "metadata": {},
     "output_type": "execute_result"
    }
   ],
   "source": [
    "# Change values by keyname\n",
    "d1[\"name\"] = \"asdflkjflkdj\"\n",
    "d1[\"name\"]\n",
    "\n",
    "# Add key:value pair\n",
    "d1[\"thingy\"] = \"thing\"\n",
    "d1[\"thingy\"]"
   ]
  },
  {
   "cell_type": "code",
   "execution_count": 76,
   "metadata": {},
   "outputs": [
    {
     "data": {
      "text/plain": [
       "{1, 2, 3, 4, 5}"
      ]
     },
     "execution_count": 76,
     "metadata": {},
     "output_type": "execute_result"
    }
   ],
   "source": [
    "# Sets\n",
    "# Unordered collection of unique elements\n",
    "\n",
    "set1 = set([1, 2, 3, 4, 5])\n",
    "set1"
   ]
  },
  {
   "cell_type": "code",
   "execution_count": 79,
   "metadata": {},
   "outputs": [],
   "source": [
    "s = t = u = z = \"something\""
   ]
  },
  {
   "cell_type": "code",
   "execution_count": 80,
   "metadata": {},
   "outputs": [
    {
     "name": "stdout",
     "output_type": "stream",
     "text": [
      "asdfghjkl;\n"
     ]
    }
   ],
   "source": [
    "a, b, c = 1, 2, 3\n",
    "\n",
    "def fii():\n",
    "    return 1, 'asdfghjkl;', 3\n",
    "\n",
    "a, b, c = fii()\n",
    "\n",
    "print(b)\n"
   ]
  },
  {
   "cell_type": "code",
   "execution_count": 81,
   "metadata": {},
   "outputs": [],
   "source": [
    "# Slicing\n",
    "my_val = \"Anything here is a string!*\"\n"
   ]
  },
  {
   "cell_type": "code",
   "execution_count": 99,
   "metadata": {},
   "outputs": [
    {
     "name": "stdout",
     "output_type": "stream",
     "text": [
      "y\n",
      "*\n",
      "!\n",
      "nyth\n",
      "27\n",
      "An\n"
     ]
    }
   ],
   "source": [
    "print(my_val[2]) # Get char at pos 2\n",
    "print(my_val[-1]) # Get char from the last position in string\n",
    "print(my_val[-2]) # Get second to last char from string\n",
    "print(my_val[1:5]) # Get string from first(inclusive) to last(exclusive)\n",
    "print(len(my_val))\n",
    "\n",
    "print(my_val[::2]) # every other char in this slice"
   ]
  },
  {
   "cell_type": "code",
   "execution_count": 101,
   "metadata": {},
   "outputs": [
    {
     "name": "stdout",
     "output_type": "stream",
     "text": [
      "9\n",
      "here is a string!*\n"
     ]
    }
   ],
   "source": [
    "print(my_val.find('here'))\n",
    "print(my_val[9:]) # Start at position 9 and go to the end"
   ]
  },
  {
   "cell_type": "code",
   "execution_count": 104,
   "metadata": {},
   "outputs": [
    {
     "name": "stdout",
     "output_type": "stream",
     "text": [
      "blue green pink\n"
     ]
    }
   ],
   "source": [
    "my_colors = \"blue green red\"\n",
    "my_colors = my_colors.replace('red', 'pink')\n",
    "print(my_colors)"
   ]
  },
  {
   "cell_type": "code",
   "execution_count": 106,
   "metadata": {},
   "outputs": [
    {
     "name": "stdout",
     "output_type": "stream",
     "text": [
      "['Peach', 'Cherry', 'Banana', 'Apple']\n"
     ]
    }
   ],
   "source": [
    "# Slice lists\n",
    "my_list = [1, 2, 3, 4, 5]\n",
    "my_fruits = [\"Apple\", \"Banana\", \"Cherry\", \"Peach\"]\n",
    "print(my_fruits[::-1])"
   ]
  },
  {
   "cell_type": "code",
   "execution_count": 108,
   "metadata": {},
   "outputs": [
    {
     "name": "stdout",
     "output_type": "stream",
     "text": [
      "*!*!*!*!*!*!*!*!*!*!*!*!*!*!*!*!*!*!*!*!*!*!*!*!*!*!*!*!*!*!*!*!*!*!*!*!*!*!*!*!*!*!*!*!*!*!*!*!*!*!\n"
     ]
    }
   ],
   "source": [
    "print('*!' * 50)"
   ]
  },
  {
   "cell_type": "code",
   "execution_count": 111,
   "metadata": {},
   "outputs": [
    {
     "data": {
      "text/plain": [
       "[1, 2, 3, 4, 5, 6]"
      ]
     },
     "execution_count": 111,
     "metadata": {},
     "output_type": "execute_result"
    }
   ],
   "source": [
    "list1 = [1,2,3,4,5,6]\n",
    "list2 = list1 # Reference\n",
    "list2 = list1.copy() # Copy\n",
    "list2[0] = 42\n",
    "list1"
   ]
  },
  {
   "cell_type": "code",
   "execution_count": 119,
   "metadata": {},
   "outputs": [
    {
     "name": "stdout",
     "output_type": "stream",
     "text": [
      "('q1', 1972)\n",
      "q1\n"
     ]
    }
   ],
   "source": [
    "questions = [(\"q1\", 1972), ('Q2', 1962), ('Q3', 2025)]\n",
    "print(questions[0])\n",
    "print(questions[0][0])"
   ]
  },
  {
   "cell_type": "code",
   "execution_count": null,
   "metadata": {},
   "outputs": [],
   "source": []
  }
 ],
 "metadata": {
  "kernelspec": {
   "display_name": "base",
   "language": "python",
   "name": "python3"
  },
  "language_info": {
   "codemirror_mode": {
    "name": "ipython",
    "version": 3
   },
   "file_extension": ".py",
   "mimetype": "text/x-python",
   "name": "python",
   "nbconvert_exporter": "python",
   "pygments_lexer": "ipython3",
   "version": "3.12.7"
  }
 },
 "nbformat": 4,
 "nbformat_minor": 2
}
