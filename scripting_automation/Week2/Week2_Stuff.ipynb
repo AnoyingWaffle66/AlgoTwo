{
 "cells": [
  {
   "cell_type": "code",
   "execution_count": 5,
   "metadata": {},
   "outputs": [
    {
     "name": "stdout",
     "output_type": "stream",
     "text": [
      "Commander\n",
      "Dave\n",
      "Bowman\n",
      "something\n",
      "HAL9000\n"
     ]
    }
   ],
   "source": [
    "# split a string\n",
    "string1 = \"Commander Dave Bowman something HAL9000\"\n",
    "split_list = string1.split(\" \")\n",
    "for thing in split_list:\n",
    "    print(thing)"
   ]
  },
  {
   "cell_type": "code",
   "execution_count": 13,
   "metadata": {},
   "outputs": [],
   "source": [
    "# File stuff\n",
    "my_file = open(\"db.txt\", \"a\") # Append to this file - a Append, w Write, r Read (File must already exist)\n",
    "my_file.write(\"Hello there\\n\")\n",
    "my_file.close() # Always close database when done\n",
    "\n",
    "# Open again\n",
    "my_file = open(\"db.txt\", \"a\")\n",
    "my_file.write(\"thing\\n\")\n",
    "my_file.close()"
   ]
  },
  {
   "cell_type": "code",
   "execution_count": 14,
   "metadata": {},
   "outputs": [
    {
     "name": "stdout",
     "output_type": "stream",
     "text": [
      "Hello there\n",
      "thing\n",
      "Hello there\n",
      "thing\n",
      "\n"
     ]
    }
   ],
   "source": [
    "# Read file\n",
    "my_file = open(\"db.txt\", \"r\")\n",
    "contents = my_file.read()\n",
    "my_file.close()\n",
    "print(contents)\n"
   ]
  },
  {
   "cell_type": "code",
   "execution_count": 16,
   "metadata": {},
   "outputs": [],
   "source": [
    "# Write file\n",
    "my_file = open(\"db.txt\", \"w\")\n",
    "my_file.write(\"drop database if exists\")\n",
    "my_file.close()\n"
   ]
  },
  {
   "cell_type": "code",
   "execution_count": 17,
   "metadata": {},
   "outputs": [
    {
     "name": "stdout",
     "output_type": "stream",
     "text": [
      "drop database if exists\n"
     ]
    }
   ],
   "source": [
    "# Closes automatically, adds scope to the open file\n",
    "with open(\"db.txt\", \"r\") as my_file:\n",
    "    my_value = my_file.read()\n",
    "    print(my_value)\n"
   ]
  },
  {
   "cell_type": "code",
   "execution_count": null,
   "metadata": {},
   "outputs": [],
   "source": [
    "import csv\n",
    "\n",
    "with open('monster.cxv', mode = \"w\", newline=\"\") as file:\n",
    "    writer = csv.writer(file, delimiter=',', quotechar='\"', quoting=csv.QUOTE_MINIMAL)\n",
    "    writer.writerow()"
   ]
  }
 ],
 "metadata": {
  "kernelspec": {
   "display_name": "base",
   "language": "python",
   "name": "python3"
  },
  "language_info": {
   "codemirror_mode": {
    "name": "ipython",
    "version": 3
   },
   "file_extension": ".py",
   "mimetype": "text/x-python",
   "name": "python",
   "nbconvert_exporter": "python",
   "pygments_lexer": "ipython3",
   "version": "3.12.7"
  }
 },
 "nbformat": 4,
 "nbformat_minor": 2
}
