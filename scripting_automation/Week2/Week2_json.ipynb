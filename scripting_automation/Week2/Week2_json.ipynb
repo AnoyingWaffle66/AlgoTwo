{
 "cells": [
  {
   "cell_type": "code",
   "execution_count": 1,
   "metadata": {},
   "outputs": [
    {
     "name": "stdout",
     "output_type": "stream",
     "text": [
      "Bob\n"
     ]
    }
   ],
   "source": [
    "import json\n",
    "\n",
    "# Specifically use single ticks because we need double tick to deliniate keys and string values in json\n",
    "data = '{ \"name\" : \"Bob\", \"Age\" : 42, \"type\" : \"Zombie\" }'\n",
    "data_json = json.loads(data) # Convert string to json object\n",
    "print(data_json[\"name\"])\n"
   ]
  },
  {
   "cell_type": "code",
   "execution_count": 3,
   "metadata": {},
   "outputs": [
    {
     "name": "stdout",
     "output_type": "stream",
     "text": [
      "<class 'str'>\n"
     ]
    }
   ],
   "source": [
    "data_json['name'] = \"Time\" # If field exists, change it\n",
    "data_json['new_value'] = \"Something strange is in the air\" # Add field that didn't exist\n",
    "print(json.dumps(data_json)) # Convert json to string\n",
    "\n"
   ]
  },
  {
   "cell_type": "code",
   "execution_count": 6,
   "metadata": {},
   "outputs": [
    {
     "name": "stdout",
     "output_type": "stream",
     "text": [
      "[1, 2, 3, 4]\n",
      "2\n"
     ]
    }
   ],
   "source": [
    "data = '[1,2,3,4]'\n",
    "data_json = json.loads(data)\n",
    "print(json.dumps(data_json))\n",
    "print(data_json[1])\n"
   ]
  },
  {
   "cell_type": "code",
   "execution_count": 10,
   "metadata": {},
   "outputs": [
    {
     "name": "stdout",
     "output_type": "stream",
     "text": [
      "Bob\n"
     ]
    }
   ],
   "source": [
    "data = '{ \"name\" : \"Bob\", \"Age\" : 42, \"type\" : \"Zombie\" }'\n",
    "data_json = json.loads(data)\n",
    "print(data_json[\"name\"])\n",
    "with open('json.txt', 'w') as file:\n",
    "    json.dump(data_json, file, indent=4) # can dump data and data_json, it changes the formatting, one is a string the other is a object\n"
   ]
  },
  {
   "cell_type": "code",
   "execution_count": 14,
   "metadata": {},
   "outputs": [
    {
     "name": "stdout",
     "output_type": "stream",
     "text": [
      "Bob\n"
     ]
    }
   ],
   "source": [
    "with open(\"json.txt\", 'r') as file:\n",
    "    all_data = json.load(file)\n",
    "    print(all_data['name'])\n"
   ]
  },
  {
   "cell_type": "code",
   "execution_count": 16,
   "metadata": {},
   "outputs": [
    {
     "name": "stdout",
     "output_type": "stream",
     "text": [
      "you\n",
      "46\n"
     ]
    }
   ],
   "source": [
    "names = [\n",
    "    {\n",
    "        \"name\" : \"Scott\",\n",
    "        \"age\" : 42\n",
    "    },\n",
    "    {\n",
    "        \"name\" : \"me\",\n",
    "        \"age\" : 44\n",
    "    },\n",
    "    {\n",
    "        \"name\" : \"you\",\n",
    "        \"age\" : 46\n",
    "    }\n",
    "]\n",
    "\n",
    "print(names[2][\"name\"])\n",
    "print(names[2][\"age\"])"
   ]
  }
 ],
 "metadata": {
  "kernelspec": {
   "display_name": "base",
   "language": "python",
   "name": "python3"
  },
  "language_info": {
   "codemirror_mode": {
    "name": "ipython",
    "version": 3
   },
   "file_extension": ".py",
   "mimetype": "text/x-python",
   "name": "python",
   "nbconvert_exporter": "python",
   "pygments_lexer": "ipython3",
   "version": "3.12.7"
  }
 },
 "nbformat": 4,
 "nbformat_minor": 2
}
